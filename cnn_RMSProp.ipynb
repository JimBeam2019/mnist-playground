{
 "cells": [
  {
   "cell_type": "code",
   "execution_count": 1,
   "metadata": {},
   "outputs": [
    {
     "name": "stdout",
     "output_type": "stream",
     "text": [
      "Requirement already satisfied: fastai in /home/jimbeam/anaconda3/lib/python3.8/site-packages (2.1.10)\n",
      "Requirement already satisfied: torch in /home/jimbeam/anaconda3/lib/python3.8/site-packages (1.7.1)\n",
      "Requirement already satisfied: scipy in /home/jimbeam/anaconda3/lib/python3.8/site-packages (from fastai) (1.5.2)\n",
      "Requirement already satisfied: pyyaml in /home/jimbeam/anaconda3/lib/python3.8/site-packages (from fastai) (5.3.1)\n",
      "Requirement already satisfied: matplotlib in /home/jimbeam/anaconda3/lib/python3.8/site-packages (from fastai) (3.3.2)\n",
      "Requirement already satisfied: pip in /home/jimbeam/anaconda3/lib/python3.8/site-packages (from fastai) (20.3.3)\n",
      "Requirement already satisfied: pandas in /home/jimbeam/anaconda3/lib/python3.8/site-packages (from fastai) (1.1.3)\n",
      "Requirement already satisfied: scikit-learn in /home/jimbeam/anaconda3/lib/python3.8/site-packages (from fastai) (0.23.2)\n",
      "Requirement already satisfied: requests in /home/jimbeam/anaconda3/lib/python3.8/site-packages (from fastai) (2.24.0)\n",
      "Requirement already satisfied: torchvision>=0.8 in /home/jimbeam/anaconda3/lib/python3.8/site-packages (from fastai) (0.8.2)\n",
      "Requirement already satisfied: fastcore>=1.3.8 in /home/jimbeam/anaconda3/lib/python3.8/site-packages (from fastai) (1.3.13)\n",
      "Requirement already satisfied: pillow>6.0.0 in /home/jimbeam/anaconda3/lib/python3.8/site-packages (from fastai) (8.0.1)\n",
      "Requirement already satisfied: packaging in /home/jimbeam/anaconda3/lib/python3.8/site-packages (from fastai) (20.4)\n",
      "Requirement already satisfied: fastprogress>=0.2.4 in /home/jimbeam/anaconda3/lib/python3.8/site-packages (from fastai) (1.0.0)\n",
      "Requirement already satisfied: spacy in /home/jimbeam/anaconda3/lib/python3.8/site-packages (from fastai) (2.3.4)\n",
      "Requirement already satisfied: typing_extensions in /home/jimbeam/anaconda3/lib/python3.8/site-packages (from torch) (3.7.4.3)\n",
      "Requirement already satisfied: numpy in /home/jimbeam/anaconda3/lib/python3.8/site-packages (from torch) (1.19.2)\n",
      "Requirement already satisfied: python-dateutil>=2.1 in /home/jimbeam/anaconda3/lib/python3.8/site-packages (from matplotlib->fastai) (2.8.1)\n",
      "Requirement already satisfied: cycler>=0.10 in /home/jimbeam/anaconda3/lib/python3.8/site-packages (from matplotlib->fastai) (0.10.0)\n",
      "Requirement already satisfied: certifi>=2020.06.20 in /home/jimbeam/anaconda3/lib/python3.8/site-packages (from matplotlib->fastai) (2020.12.5)\n",
      "Requirement already satisfied: pyparsing!=2.0.4,!=2.1.2,!=2.1.6,>=2.0.3 in /home/jimbeam/anaconda3/lib/python3.8/site-packages (from matplotlib->fastai) (2.4.7)\n",
      "Requirement already satisfied: kiwisolver>=1.0.1 in /home/jimbeam/anaconda3/lib/python3.8/site-packages (from matplotlib->fastai) (1.3.0)\n",
      "Requirement already satisfied: six in /home/jimbeam/anaconda3/lib/python3.8/site-packages (from cycler>=0.10->matplotlib->fastai) (1.15.0)\n",
      "Requirement already satisfied: pytz>=2017.2 in /home/jimbeam/anaconda3/lib/python3.8/site-packages (from pandas->fastai) (2020.1)\n",
      "Requirement already satisfied: chardet<4,>=3.0.2 in /home/jimbeam/anaconda3/lib/python3.8/site-packages (from requests->fastai) (3.0.4)\n",
      "Requirement already satisfied: urllib3!=1.25.0,!=1.25.1,<1.26,>=1.21.1 in /home/jimbeam/anaconda3/lib/python3.8/site-packages (from requests->fastai) (1.25.11)\n",
      "Requirement already satisfied: idna<3,>=2.5 in /home/jimbeam/anaconda3/lib/python3.8/site-packages (from requests->fastai) (2.10)\n",
      "Requirement already satisfied: threadpoolctl>=2.0.0 in /home/jimbeam/anaconda3/lib/python3.8/site-packages (from scikit-learn->fastai) (2.1.0)\n",
      "Requirement already satisfied: joblib>=0.11 in /home/jimbeam/anaconda3/lib/python3.8/site-packages (from scikit-learn->fastai) (0.17.0)\n",
      "Requirement already satisfied: wasabi<1.1.0,>=0.4.0 in /home/jimbeam/anaconda3/lib/python3.8/site-packages (from spacy->fastai) (0.8.0)\n",
      "Requirement already satisfied: tqdm<5.0.0,>=4.38.0 in /home/jimbeam/anaconda3/lib/python3.8/site-packages (from spacy->fastai) (4.50.2)\n",
      "Requirement already satisfied: catalogue<1.1.0,>=0.0.7 in /home/jimbeam/anaconda3/lib/python3.8/site-packages (from spacy->fastai) (1.0.0)\n",
      "Requirement already satisfied: cymem<2.1.0,>=2.0.2 in /home/jimbeam/anaconda3/lib/python3.8/site-packages (from spacy->fastai) (2.0.4)\n",
      "Requirement already satisfied: plac<1.2.0,>=0.9.6 in /home/jimbeam/anaconda3/lib/python3.8/site-packages (from spacy->fastai) (1.1.3)\n",
      "Requirement already satisfied: murmurhash<1.1.0,>=0.28.0 in /home/jimbeam/anaconda3/lib/python3.8/site-packages (from spacy->fastai) (1.0.4)\n",
      "Requirement already satisfied: preshed<3.1.0,>=3.0.2 in /home/jimbeam/anaconda3/lib/python3.8/site-packages (from spacy->fastai) (3.0.4)\n",
      "Requirement already satisfied: thinc<7.5.0,>=7.4.1 in /home/jimbeam/anaconda3/lib/python3.8/site-packages (from spacy->fastai) (7.4.3)\n",
      "Requirement already satisfied: setuptools in /home/jimbeam/anaconda3/lib/python3.8/site-packages (from spacy->fastai) (50.3.1.post20201107)\n",
      "Requirement already satisfied: blis<0.8.0,>=0.4.0 in /home/jimbeam/anaconda3/lib/python3.8/site-packages (from spacy->fastai) (0.7.3)\n",
      "Requirement already satisfied: srsly<1.1.0,>=1.0.2 in /home/jimbeam/anaconda3/lib/python3.8/site-packages (from spacy->fastai) (1.0.4)\n",
      "Requirement already satisfied: fastcore in /home/jimbeam/anaconda3/lib/python3.8/site-packages (1.3.13)\n",
      "Requirement already satisfied: packaging in /home/jimbeam/anaconda3/lib/python3.8/site-packages (from fastcore) (20.4)\n",
      "Requirement already satisfied: pip in /home/jimbeam/anaconda3/lib/python3.8/site-packages (from fastcore) (20.3.3)\n",
      "Requirement already satisfied: pyparsing>=2.0.2 in /home/jimbeam/anaconda3/lib/python3.8/site-packages (from packaging->fastcore) (2.4.7)\n",
      "Requirement already satisfied: six in /home/jimbeam/anaconda3/lib/python3.8/site-packages (from packaging->fastcore) (1.15.0)\n"
     ]
    }
   ],
   "source": [
    "!pip install fastai torch --upgrade\n",
    "\n",
    "!pip install -Uqq fastbook\n",
    "!pip install fastcore --upgrade\n",
    "\n",
    "import fastbook\n",
    "fastbook.setup_book()"
   ]
  },
  {
   "cell_type": "code",
   "execution_count": 2,
   "metadata": {},
   "outputs": [],
   "source": [
    "import fastbook\n",
    "import fastcore\n",
    "\n",
    "from fastbook import *\n",
    "from fastai.vision import *\n",
    "from fastai.metrics import error_rate\n",
    "\n",
    "def init_sample_mnist():\n",
    "  return untar_data(URLs.MNIST)\n",
    "\n",
    "path = init_sample_mnist()"
   ]
  },
  {
   "cell_type": "code",
   "execution_count": 3,
   "metadata": {},
   "outputs": [],
   "source": [
    "def get_mnist_dls(): \n",
    "  mnist_full = DataBlock(blocks=(ImageBlock(cls=PILImageBW), CategoryBlock),\n",
    "                        get_items=get_image_files_sorted,\n",
    "                        splitter=RandomSplitter(),\n",
    "                        get_y=parent_label)\n",
    "\n",
    "  return mnist_full.dataloaders(path)\n",
    "\n",
    "dls = get_mnist_dls()"
   ]
  },
  {
   "cell_type": "code",
   "execution_count": 7,
   "metadata": {},
   "outputs": [
    {
     "data": {
      "text/html": [],
      "text/plain": [
       "<IPython.core.display.HTML object>"
      ]
     },
     "metadata": {},
     "output_type": "display_data"
    },
    {
     "data": {
      "text/plain": [
       "SuggestedLRs(lr_min=0.0003019951749593019, lr_steep=0.0003311311302240938)"
      ]
     },
     "execution_count": 7,
     "metadata": {},
     "output_type": "execute_result"
    },
    {
     "data": {
      "image/png": "[encoded data removed]",
      "text/plain": [
       "<Figure size 432x288 with 1 Axes>"
      ]
     },
     "metadata": {
      "needs_background": "light"
     },
     "output_type": "display_data"
    }
   ],
   "source": [
    "learn_net18 = cnn_learner(dls, \n",
    "                    models.resnet18, \n",
    "                    pretrained=False,\n",
    "                    loss_func=CrossEntropyLossFlat(),\n",
    "                    opt_func=RMSProp,\n",
    "                    ps=0.25,\n",
    "                    metrics=error_rate)\n",
    "\n",
    "learn_net18.lr_find()"
   ]
  },
  {
   "cell_type": "code",
   "execution_count": 8,
   "metadata": {
    "scrolled": false
   },
   "outputs": [
    {
     "data": {
      "text/html": [
       "<table border=\"1\" class=\"dataframe\">\n",
       "  <thead>\n",
       "    <tr style=\"text-align: left;\">\n",
       "      <th>epoch</th>\n",
       "      <th>train_loss</th>\n",
       "      <th>valid_loss</th>\n",
       "      <th>error_rate</th>\n",
       "      <th>time</th>\n",
       "    </tr>\n",
       "  </thead>\n",
       "  <tbody>\n",
       "    <tr>\n",
       "      <td>0</td>\n",
       "      <td>0.185287</td>\n",
       "      <td>0.216778</td>\n",
       "      <td>0.067714</td>\n",
       "      <td>00:38</td>\n",
       "    </tr>\n",
       "    <tr>\n",
       "      <td>1</td>\n",
       "      <td>0.101799</td>\n",
       "      <td>0.069073</td>\n",
       "      <td>0.021143</td>\n",
       "      <td>00:37</td>\n",
       "    </tr>\n",
       "    <tr>\n",
       "      <td>2</td>\n",
       "      <td>0.061567</td>\n",
       "      <td>0.041758</td>\n",
       "      <td>0.013500</td>\n",
       "      <td>00:38</td>\n",
       "    </tr>\n",
       "    <tr>\n",
       "      <td>3</td>\n",
       "      <td>0.033593</td>\n",
       "      <td>0.040935</td>\n",
       "      <td>0.013286</td>\n",
       "      <td>00:38</td>\n",
       "    </tr>\n",
       "    <tr>\n",
       "      <td>4</td>\n",
       "      <td>0.017844</td>\n",
       "      <td>0.022481</td>\n",
       "      <td>0.006500</td>\n",
       "      <td>00:38</td>\n",
       "    </tr>\n",
       "    <tr>\n",
       "      <td>5</td>\n",
       "      <td>0.005110</td>\n",
       "      <td>0.021059</td>\n",
       "      <td>0.006143</td>\n",
       "      <td>00:38</td>\n",
       "    </tr>\n",
       "  </tbody>\n",
       "</table>"
      ],
      "text/plain": [
       "<IPython.core.display.HTML object>"
      ]
     },
     "metadata": {},
     "output_type": "display_data"
    },
    {
     "data": {
      "text/html": [],
      "text/plain": [
       "<IPython.core.display.HTML object>"
      ]
     },
     "metadata": {},
     "output_type": "display_data"
    },
    {
     "data": {
      "image/png": "[encoded data removed]",
      "text/plain": [
       "<Figure size 576x576 with 1 Axes>"
      ]
     },
     "metadata": {
      "needs_background": "light"
     },
     "output_type": "display_data"
    }
   ],
   "source": [
    "lr_min = 0.0003019951749593019\n",
    "lr_steep = 0.0003311311302240938\n",
    "learn_net18.fit_one_cycle(6, slice(lr_min,lr_steep))\n",
    "\n",
    "interp_net18 = ClassificationInterpretation.from_learner(learn_net18)\n",
    "interp_net18.plot_confusion_matrix(figsize=(8,8))"
   ]
  },
  {
   "cell_type": "code",
   "execution_count": 9,
   "metadata": {},
   "outputs": [],
   "source": [
    "learn_net18.export('pkl/cnn_RMSProp.pkl')"
   ]
  },
  {
   "cell_type": "code",
   "execution_count": null,
   "metadata": {},
   "outputs": [],
   "source": []
  }
 ],
 "metadata": {
  "kernelspec": {
   "display_name": "Python 3",
   "language": "python",
   "name": "python3"
  },
  "language_info": {
   "codemirror_mode": {
    "name": "ipython",
    "version": 3
   },
   "file_extension": ".py",
   "mimetype": "text/x-python",
   "name": "python",
   "nbconvert_exporter": "python",
   "pygments_lexer": "ipython3",
   "version": "3.8.2"
  }
 },
 "nbformat": 4,
 "nbformat_minor": 4
}
